{
 "cells": [
  {
   "cell_type": "markdown",
   "id": "751e4f34-931d-4843-8ea2-39985e04f4b6",
   "metadata": {},
   "source": [
    "# Ripasso sugli argomenti principali del corso di Statistica e Analisi dei Dati con Python"
   ]
  },
  {
   "cell_type": "markdown",
   "id": "1b186083-aa85-4979-9e90-d88087baa6d1",
   "metadata": {},
   "source": [
    "## Statistica descrittiva: dati qualitativi e quantitativi"
   ]
  },
  {
   "cell_type": "markdown",
   "id": "bf22e63a-3426-4777-b48d-b41c85b8c3bf",
   "metadata": {},
   "source": [
    "I dati possono essere distinti in **_quantitativi_** e **_qualitativi_** e la distinzione permette di trattarli in maniera diversa nel momento in cui è necessario fare un'analisi statistica e/o computare un grafico:\n",
    "- **Dato quantitativo** $\\Rightarrow$ Sono dati "
   ]
  },
  {
   "cell_type": "code",
   "execution_count": null,
   "id": "223e2055-26b5-40d3-ac3a-c48b2cc9902b",
   "metadata": {},
   "outputs": [],
   "source": []
  }
 ],
 "metadata": {
  "kernelspec": {
   "display_name": "Python 3 (ipykernel)",
   "language": "python",
   "name": "python3"
  },
  "language_info": {
   "codemirror_mode": {
    "name": "ipython",
    "version": 3
   },
   "file_extension": ".py",
   "mimetype": "text/x-python",
   "name": "python",
   "nbconvert_exporter": "python",
   "pygments_lexer": "ipython3",
   "version": "3.12.9"
  }
 },
 "nbformat": 4,
 "nbformat_minor": 5
}
