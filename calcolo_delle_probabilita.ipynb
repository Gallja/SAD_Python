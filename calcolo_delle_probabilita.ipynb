{
 "cells": [
  {
   "cell_type": "markdown",
   "metadata": {},
   "source": [
    "# Calcolo combinatorio\n",
    "\n",
    "### Disposizioni\n",
    "\n",
    "**L'ordine è importante**: $(a,b) != (b,a)$\n",
    "\n",
    "Dato un insieme di `n` oggetti distinti, vogliamo selezionare `k` oggetti, con `k` < `n`, **tenendo in considerazione l'ordine**:\n",
    "\n",
    "- **Disposizioni semplici (senza ripetizioni)**: $d_{n,k} = \\frac{n!}{(n-k)!}$\n",
    "- **Disposizioni con ripetizione**: $d_{n,k} = n^k$\n",
    "\n",
    "### Combinazioni\n",
    "\n",
    "**L'ordine non è importante**: $(a,b) = (b,a)$\n",
    "\n",
    "Dato un insieme di `n` oggetti distinti, vogliamo selezionare `k` oggetti, con `k` < `n`, **senza considerare l'ordine**.\n",
    "\n",
    "- **Combinazioni semplici (senza ripetizioni)**: $c_{n,k} = \\binom{n}{k} $\n",
    "- **Combinazioni con ropetizioni**: $c_{n,k} = \\binom{n+k-1}{k}$\n",
    "\n",
    "### Permutazioni\n",
    "\n",
    "**L'ordine è importante**\n",
    "\n",
    "**Tutti gli elementi vengono disposti**\n",
    "\n",
    "Dato un insieme di `n` oggetti, una **permutazione** è una sequenza **ordinata** in cui compaiono *tutti* gli oggetti (k = n). \n",
    "\n",
    "- **Permutazioni senza ripetizioni (semplici)**: l'insieme non contiene elementi duplicati: $P_n = n!$\n",
    "- **Permutazioni di oggetti distinguibili a gruppi (con ripetizioni)**: L'insieme contiene oggetti distinguibili a gruppi: $P_{n:n_1, ..., n_k} = \\binom{n}{n_1, ..., n_k}$\n"
   ]
  },
  {
   "cell_type": "markdown",
   "metadata": {},
   "source": []
  }
 ],
 "metadata": {
  "language_info": {
   "name": "python"
  }
 },
 "nbformat": 4,
 "nbformat_minor": 2
}
