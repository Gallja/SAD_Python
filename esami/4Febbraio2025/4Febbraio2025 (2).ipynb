{
 "cells": [
  {
   "cell_type": "markdown",
   "id": "b345cfcb",
   "metadata": {},
   "source": [
    "# **Tema d'esame di Statistica e analisi dei dati**"
   ]
  },
  {
   "cell_type": "markdown",
   "id": "83fee061",
   "metadata": {},
   "source": [
    "## **1.1 Prova scritta del 4 febbraio 2025 – Prof. Malchiodi**\n",
    "Scrivete qui sotto i dati richiesti e riportateli anche su tutti i fogli protocollo che vi sono stati consegnati. Non potete tenere altri fogli bianchi rispetto a quelli che vi sono stati consegnati, né potete utilizzare calcolatrici portatili (avete a disposizione direttamente il computer!). Potete tenere sul banco, oltre alla penna, un libro e un quaderno di appunti per consultazione. Tutte le altre cose che avete con voi, **compresi telefoni e smartwatch**, devono essere riposte nello zaino e lasciate ai banchi, dove vi verrà indicato. Potete scegliere a quali domande rispondere scrivendo su carta e a quali scrivendo ed eseguendo direttamente codice in questo notebook.\n",
    "\n",
    "A fine prova dovrete consegnare **tutti** i fogli che vi sono stati dati, e inviare la versione digitale di questo notebook, contenente il vostro svolgimento, utilizzando il sito [https://upload.di.unimi.it](https://upload.di.unimi.it).\n",
    "\n",
    "**Cognome e nome:**  \n",
    "**Matricola:**"
   ]
  },
  {
   "cell_type": "markdown",
   "id": "d0acfe94",
   "metadata": {},
   "source": [
    "## **Esercizio 1**\n",
    "Data una variabile aleatoria $X$ distribuita secondo un modello binomiale di parametri $n$ e $p$ definiamo $Z = 2X$."
   ]
  },
  {
   "cell_type": "markdown",
   "id": "8727e76d",
   "metadata": {},
   "source": [
    "**1.** Quali sono le specificazioni di $Z$?"
   ]
  },
  {
   "cell_type": "markdown",
   "id": "b252f9e2",
   "metadata": {},
   "source": [
    "**2.** Calcolate $P(Z = 0)$ e $P(Z = 2n)$."
   ]
  },
  {
   "cell_type": "markdown",
   "id": "3adc9fda",
   "metadata": {},
   "source": [
    "**3.** Studiate la relazione che esiste tra $X$ e $Z$, e scrivete la forma analitica della funzione di massa di probabilità di $Z$."
   ]
  },
  {
   "cell_type": "markdown",
   "id": "5b08f931",
   "metadata": {},
   "source": [
    "**4.** Solo in questo punto dell’esercizio, assumete che $n = 3$ e $p = \\frac{1}{2}$. Visualizzate graficamente la distribuzione di $Z$, giustificando il tipo di grafico scelto."
   ]
  },
  {
   "cell_type": "markdown",
   "id": "2e0bf86e",
   "metadata": {},
   "source": [
    "**5.** Calcolate il valore atteso e la varianza di $Z$, esprimendoli in funzione di $p$ ed $n$ e giustificando i passaggi svolti."
   ]
  },
  {
   "cell_type": "markdown",
   "id": "95e006ec",
   "metadata": {},
   "source": [
    "## **Esercizio 2**\n",
    "Consideriamo una popolazione distribuita come una variabile aleatoria $Z$, la cui distribuzione è la stessa dell’omonima variabile definita nell’esercizio precedente, per un valore ignoto del parametro $p$ avento fissato $n = 365$. Per un $m \\in N$ fissato, siano $Z_1, \\dots, Z_m$ delle variabili aleatorie che descrivono un campione estratto da questa popolazione. In tutto l’esercizio, $\\overline{Z}$ indicherà la media campionaria calcolata su $Z_1, \\dots, Z_m$."
   ]
  },
  {
   "cell_type": "markdown",
   "id": "3d61e65a",
   "metadata": {},
   "source": [
    "**1.** Di norma si usa il simbolo $n$ per indicare la dimensione di un campione. In questo esercizio, invece, è stato introdotto il simbolo $m$: era necessario? Perché?"
   ]
  },
  {
   "cell_type": "markdown",
   "id": "f93d1301",
   "metadata": {},
   "source": [
    "**2.** $\\overline{Z}$ è uno stimatore non deviato per la varianza di $Z$? Motivate la vostra risposta."
   ]
  },
  {
   "cell_type": "markdown",
   "id": "6713d66c",
   "metadata": {},
   "source": [
    "**3.** Giustificando i vostri passaggi, determinate uno stimatore $T$ non distorto per il parametro $p$."
   ]
  },
  {
   "cell_type": "markdown",
   "id": "dfbce498",
   "metadata": {},
   "source": [
    "**4.** Giustificando i vostri passaggi, calcolate lo scarto quadratico medio dello stimatore $T$ che avete proposto al punto precedente, esprimendolo solamente in funzione di $p$ e della dimensione del campione. Verificate poi se $T$ gode della proprietà di consistenza in media quadratica."
   ]
  },
  {
   "cell_type": "markdown",
   "id": "34b0feaa",
   "metadata": {},
   "source": [
    "**5.** Calcolate la deviazione standard dello stimatore $T$ proposto, giustificando i passaggi effettuati."
   ]
  },
  {
   "cell_type": "markdown",
   "id": "37989f42",
   "metadata": {},
   "source": [
    "**6.** Applicando il teorema centrale del limite e giustificando i passaggi effettuati, calcolate qual è la dimensione minima del campione che permette di asserire che l’errore (in valore assoluto) che si compie usando lo stimatore proposto per stimare $p$ se è minore o uguale a $10^{-3}$ con probabilità maggiore o uguale a $0.9$. Esprimere poi questa probabilità in funzione di $p$."
   ]
  },
  {
   "cell_type": "markdown",
   "id": "edcb3b2a",
   "metadata": {},
   "source": [
    "## Esercizio 3\n",
    "\n",
    "Collegatevi al sito upload.di.unimi.it, selezionate l’esame di Statistica e analisi dei dati per l’appello odierno e scaricate il file ztl.csv. Questo file contiene le seguenti informazioni, in merito agli autoveicoli che sono acceduti alla zona a traffico limitato (ZTL) di un ipotetico comune nel periodo di un anno:\n",
    "\n",
    "- `id-autoveicolo`: numero intero che identifica univocamente l’autoveicolo.\n",
    "- `categoria`: categoria dell’utente che effettua l’accesso (“residente”, “commerciante”, “lavoratore”, “turista” o “altro”, espressi tramite stringhe).\n",
    "- `abbonamento`: valore booleano che indica se il possessore dell’autoveicolo paga un abbonamento per accedere alla ZTL (1: sì, 0: no).\n",
    "- `passaggi`: numero di passaggi effettuati nell’anno (numero intero); se non si possiede un abbonamento, questo numero è sempre pari perché si acquista due passaggi, uno in ingresso e uno in uscita, e non è possibile lasciare l’auto nella ZTL durante la notte.\n",
    "- `altamente-inquinante`: valore booleano che indica se l’autoveicolo è più inquinante della media (1: sì, 0: no).\n",
    "\n",
    "In questo file il carattere `;` separa le colonne."
   ]
  },
  {
   "cell_type": "markdown",
   "id": "540e4ddb",
   "metadata": {},
   "source": [
    "**1.** Create un DataFrame che contenga il dataset memorizzato nel file ztl.csv, e memorizzatelo in una variabile `ztl`. Determinate quanti valori mancanti vi siano nel dataset per ogni possibile valore dell’attributo categoria."
   ]
  },
  {
   "cell_type": "markdown",
   "id": "44d41b02",
   "metadata": {},
   "source": [
    "**2.** Indicate il tipo dell’attributo `passaggi`, e visualizzate successivamente la sua distribuzione, motivando la scelta dello strumento grafico utilizzato."
   ]
  },
  {
   "cell_type": "markdown",
   "id": "1cad734a",
   "metadata": {},
   "source": [
    "**3.** Valutate se l’attributo `passaggi` contenga o meno dei valori fuori scala, rimuovendoli nel caso in cui ve ne siano."
   ]
  },
  {
   "cell_type": "markdown",
   "id": "223a1c43",
   "metadata": {},
   "source": [
    "**4.** Confrontate le tabelle delle frequenze relative cumulative per gli attributi `abbonamento` e `altamente-inquinante`."
   ]
  },
  {
   "cell_type": "markdown",
   "id": "9dc53d1b",
   "metadata": {},
   "source": [
    "**5.** Supponete che i valori degli attributi `abbonamento` e `altamente-inquinante` possano essere interpretati come due campioni (allineati caso per caso) estratti da due popolazioni, ognuna descritta da una variabile aleatoria. Sulla base del confronto effettuato al punto precedente, validate oppure rifiutate l’ipotesi che queste due variabili siano i.i.d."
   ]
  },
  {
   "cell_type": "markdown",
   "id": "6e1b2ef1",
   "metadata": {},
   "source": [
    "**6.** Il grafico ottenuto utilizzando un diagramma-quantile permette di confermare la conclusione alla quale siete arrivati al punto precedente? Perché?"
   ]
  },
  {
   "cell_type": "markdown",
   "id": "239992ec",
   "metadata": {},
   "source": [
    "**7.** Valutate se esista una relazione tra gli attributi `abbonamento` e `passaggi`, utilizzando sia uno strumento grafico che un indice numerico (e specificandone motivazione). In caso affermativo, descrivetene le caratteristiche nel dettaglio. Nel particolare caso che stiamo considerando, potreste dire che uno dei due attributi è più informativo rispetto all’altro? Perché?"
   ]
  },
  {
   "cell_type": "markdown",
   "id": "27b21ec3",
   "metadata": {},
   "source": [
    "**8.** Salvate in una nuova variabile `ztl_giornalieri` solo i casi del dataset che non corrispondono agli ingressi fatti con abbonamento. **Lavorare per il resto dell'esame con questo nuovo dataset**."
   ]
  },
  {
   "cell_type": "markdown",
   "id": "7a297e90",
   "metadata": {},
   "source": [
    "**9.** Verificare che non esista nessun caso nel dataframe con `passaggi` dispari"
   ]
  },
  {
   "cell_type": "markdown",
   "id": "87b52835",
   "metadata": {},
   "source": [
    "**10.** Validare l'ipotesi che `passaggi` contenga dei valori assimilabili ad un campione estratto da una popolazione la cui distribuzione sia la stessa della variabile aleatoria $Z$ dell'esercizio 1."
   ]
  },
  {
   "cell_type": "markdown",
   "id": "5f92c552",
   "metadata": {},
   "source": [
    "## Esercizio 4\n",
    "\n",
    "In questo esercizio considereremo i valori dell’attributo passaggi nel dataset memorizzato in `ztl_giornalieri` come un campione estratto da una popolazione distribuita come una variabile aleatoria $Z$ che ha l’omonima distribuzione dell’omonima variabile aleatoria introdotta nell’Esercizio 1."
   ]
  },
  {
   "cell_type": "markdown",
   "id": "c8ad7372",
   "metadata": {},
   "source": [
    "**1.** Stimate la deviazione standard $\\sigma_Z$ della popolazione, indicando quale statistica avete utilizzato e evidenziando se questo gode di particolari proprietà."
   ]
  },
  {
   "cell_type": "markdown",
   "id": "3481a231",
   "metadata": {},
   "source": [
    "**2.** Determinate una stima numerica $\\hat{p}$ per il parametro $p$ della popolazione."
   ]
  },
  {
   "cell_type": "markdown",
   "id": "45f4ff5e",
   "metadata": {},
   "source": [
    "**3.** Stabilite se la quantità di dati a disposizione ci permette di dire che la stima  di $p$ fatta al punto precedente comporta un errore (in valore assoluto) rispetto al valore sconosciuto che è minore o uguale a $10^{−3}$ con probabilità maggiore o uguale a 0.9."
   ]
  },
  {
   "cell_type": "markdown",
   "id": "6255e876",
   "metadata": {},
   "source": [
    "**4.** Usando la stima $\\hat{p}$ determinata al punto 2 al posto del valore ignoto $p$ e assumendo che n = 365, calcolate le seguenti probabilità:\n",
    "\n",
    "   - $P(Z\\ge 200)$\n",
    "   - $P(Z\\le 200)$\n",
    "   - $P(Z\\ge 240 | Z \\ge 200)$\n",
    "\n",
    "   Suggerimento: ricordate in che modo è stata definita la variabile aleatoria $Z$ nel primo esercizio."
   ]
  },
  {
   "cell_type": "markdown",
   "id": "eb700389",
   "metadata": {},
   "source": [
    "**5.** Gli esperti dell’ufficio viabilità ritengono che in un anno ci siano 1000 diversi utenti non abbonati che acquistano l’ingresso nella ZTL del Comune, e possiamo assumere che le abitudini di ognuno di essi siano indipendenti da quelle degli altri. Indichiamo con $A$ la variabile aleatoria che indica il numero totale dei loro passaggi. Calcolate il valore atteso e la deviazione standard di $A$, e sostituendo ad eventuali quantità ignote le opportune stime già fatte in questo stesso esercizio."
   ]
  },
  {
   "cell_type": "markdown",
   "id": "a10981c3",
   "metadata": {},
   "source": [
    "**6.** Indicate quale distribuzione (eventualmente anche approssimata) segue $A$, giustificando il vostro ragionamento."
   ]
  },
  {
   "cell_type": "markdown",
   "id": "83d9fcee",
   "metadata": {},
   "source": [
    "**7.** Il Ministero dei Trasporti eroga un finanziamento speciale ai comuni nei quali il numero totale dei passaggi nella ZTL fatti da utenti non abbonati nel periodo di un anno non eccede le centomila unità. Con che probabilità il Comune accederà a questo finanziamento il prossimo anno?"
   ]
  }
 ],
 "metadata": {
  "kernelspec": {
   "display_name": "Python 3 (ipykernel)",
   "language": "python",
   "name": "python3"
  },
  "language_info": {
   "codemirror_mode": {
    "name": "ipython",
    "version": 3
   },
   "file_extension": ".py",
   "mimetype": "text/x-python",
   "name": "python",
   "nbconvert_exporter": "python",
   "pygments_lexer": "ipython3",
   "version": "3.12.10"
  }
 },
 "nbformat": 4,
 "nbformat_minor": 5
}
