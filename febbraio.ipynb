{
 "cells": [
  {
   "cell_type": "markdown",
   "id": "462e62b2",
   "metadata": {},
   "source": [
    "# Giacomo Comitani 986596"
   ]
  },
  {
   "cell_type": "code",
   "execution_count": null,
   "id": "db573d72",
   "metadata": {},
   "outputs": [],
   "source": [
    "# Plotto il grafico del binomiale"
   ]
  },
  {
   "cell_type": "code",
   "execution_count": 12,
   "id": "c086ea11",
   "metadata": {},
   "outputs": [
    {
     "name": "stdout",
     "output_type": "stream",
     "text": [
      "specificazioni:  [ 0  2  4  6  8 10 12 14 16 18 20 22 24 26 28 30 32]\n",
      "numero di occorrenze per specificazione:  [   1   11   47  188  445  916 1359 1574 1676 1452 1040  671  388  142\n",
      "   71   13    6]\n"
     ]
    },
    {
     "data": {
      "image/png": "[encoded data removed]",
      "text/plain": [
       "<Figure size 640x480 with 1 Axes>"
      ]
     },
     "metadata": {},
     "output_type": "display_data"
    }
   ],
   "source": [
    "import matplotlib.pyplot as plt \n",
    "import numpy as np\n",
    "import pandas as pd\n",
    "import scipy.stats as st\n",
    "\n",
    "p = 0.3 # probabilità scelta arbitrariamente\n",
    "n = 26\n",
    "num_sample = 10000 # maggiore è il numero di sample, maggiore è accurata la previsione della distribuzione nella generazione del grafico empirico\n",
    "binom = st.binom(n,p)\n",
    "X = binom.rvs(num_sample) # rvs --> random variates of given type (in questo caso una Bernoulliana)\n",
    "\n",
    "Z = 2*X\n",
    "\n",
    "unique_values, counts = np.unique(Z, return_counts = True) \n",
    "# unique_values --> specificazioni \"reali\" con i valori assegnati alle variabili 'a' e 'b'\n",
    "# counts --> numero di occorrenze per ciascuna specificazione della distribuzione Z\n",
    "print(\"specificazioni: \",unique_values) # {b, a+b}\n",
    "print(\"numero di occorrenze per specificazione: \", counts)\n",
    "\n",
    "# Grafico generato a partire da una pmf calcolata \"a mano\" (grafico empirico):\n",
    "pmf = counts / num_sample # pmf --> funzione di massa di probabilità\n",
    "plt.stem(unique_values, pmf) # crea il primo grafico, quello con la linea rossa orizzontale\n",
    "plt.show()\n"
   ]
  },
  {
   "cell_type": "markdown",
   "id": "f1c02d47",
   "metadata": {},
   "source": [
    "Le specificazioni di Z sono tutti i numeri pari compresi nell'intervallo {0, ..., 2n}\n",
    "\n",
    "Ora calcolo P(Z = 0) e P(Z = 2n)\n",
    "\n",
    "Nel primo caso ho quindi P(2X = 0) = P(X = 0)\n",
    "\n",
    "Nel secondo ho P(2X = 2n) = P(X = n).\n",
    "\n",
    "sostituiendo i rispettivi valori nella formula della funzione di massa del modello binomiale mi escono rispettivamente: \n",
    "\n",
    "- (1-p)^n\n",
    "\n",
    "- p^n\n",
    "\n",
    "Ora mi chiede: studiate la relazione che c'è tra `X` e `Z` e scrivete la formula analitica della funzione di massa di probabilità di `Z`."
   ]
  },
  {
   "cell_type": "markdown",
   "id": "02a561a3",
   "metadata": {},
   "source": [
    "Qui ricordo che Z = 2X. posso quindi sostituire nell formula:\n",
    "\n",
    "P(Z = k) = P(2X = k) = P(X = k/2). da qui posso risolvere e scrivere la formulina"
   ]
  },
  {
   "cell_type": "markdown",
   "id": "1d5e62a0",
   "metadata": {},
   "source": [
    "Punto dopo: assumo n = 3 e p = 1/2, vuole che plotto il grafico di Z giustificando la scelta di quale uso"
   ]
  },
  {
   "cell_type": "code",
   "execution_count": 15,
   "id": "0f94f8d2",
   "metadata": {},
   "outputs": [
    {
     "name": "stdout",
     "output_type": "stream",
     "text": [
      "specificazioni:  [0 2 4 6]\n",
      "numero di occorrenze per specificazione:  [1225 3691 3825 1259]\n"
     ]
    },
    {
     "data": {
      "image/png": "[encoded data removed]",
      "text/plain": [
       "<Figure size 640x480 with 1 Axes>"
      ]
     },
     "metadata": {},
     "output_type": "display_data"
    }
   ],
   "source": [
    "import matplotlib.pyplot as plt \n",
    "import numpy as np\n",
    "import pandas as pd\n",
    "import scipy.stats as st\n",
    "\n",
    "p = 0.5 # probabilità scelta arbitrariamente\n",
    "n = 3\n",
    "num_sample = 10000 # maggiore è il numero di sample, maggiore è accurata la previsione della distribuzione nella generazione del grafico empirico\n",
    "binom = st.binom(n,p)\n",
    "X = binom.rvs(num_sample) # rvs --> random variates of given type (in questo caso una Bernoulliana)\n",
    "\n",
    "Z = 2*X\n",
    "\n",
    "unique_values, counts = np.unique(Z, return_counts = True) \n",
    "# unique_values --> specificazioni \"reali\" con i valori assegnati alle variabili 'a' e 'b'\n",
    "# counts --> numero di occorrenze per ciascuna specificazione della distribuzione Z\n",
    "print(\"specificazioni: \",unique_values) # {b, a+b}\n",
    "print(\"numero di occorrenze per specificazione: \", counts)\n",
    "\n",
    "# Grafico generato a partire da una pmf calcolata \"a mano\" (grafico empirico):\n",
    "pmf = counts / num_sample # pmf --> funzione di massa di probabilità\n",
    "plt.stem(unique_values, pmf) # crea il primo grafico, quello con la linea rossa orizzontale\n",
    "plt.show()"
   ]
  },
  {
   "cell_type": "markdown",
   "id": "5d749f5d",
   "metadata": {},
   "source": [
    "Calcolate valore atteso e varianza\n",
    "\n",
    "Devo ragionare su proprietà di linearità del valore atteso e della varianza\n",
    "\n",
    "Valore atteso: normalmente = n*p\n",
    "\n",
    "Varianza: normalmente = n*p(1-p)\n",
    "\n",
    "Valore atteso Z : 2np\n",
    "\n",
    "Varianza di Z: 4(np(1-p))"
   ]
  },
  {
   "cell_type": "markdown",
   "id": "8ec79e34",
   "metadata": {},
   "source": [
    "# Esercizio 2\n",
    "\n",
    "Da qui al posto di n devo usare m\n",
    "\n",
    "Introduciamo `m` per indicare un sottoinsieme del campione. n è già utiolizzato come prametro del modello binomiale.\n",
    "\n",
    "Ora mi chiede se Z è uno stimatore non deviato. Ricordo uno stimatore è non deviato se la sua media è uguale al parametro che vuole stimare.\n",
    "\n",
    "Varianza = 4(np(1-p))\n",
    "\n",
    "Quindi mi basta dire che il valore atteso di z segnato deve essere uguale alla varianza.\n",
    "\n",
    "faccio formula, semplifico e ottengo che l'uguaglianza non vale, ottenendo ceh Z NON è uno stimatore NON deviato per Z. \n",
    "\n",
    "A questo punto mi chiede di trovare uno stimatore NON distorto per il parametro p\n",
    "\n",
    "Quidni mi sta chiedendo di trovare un qualcusa i cui valore atteso è p.\n",
    "\n",
    "A questo punto mi viene in mente di usare Z che ha valore atteso = 2np, e dividerla per 2n per ottenere p\n",
    "\n",
    "Quindi T = Z/2n e funziona"
   ]
  },
  {
   "cell_type": "markdown",
   "id": "80b4cd29",
   "metadata": {},
   "source": [
    "Ora mi chiede la varianza di T. So che la varianza di Z è 4np. e so come si comporta la scalatura della varianza. quindi so che la varianza di T = (1/2n)^2*aVar(Z) = 1/4n^2 * 4(np(1-p)).\n",
    "\n",
    "per calcolare la eìdeviazione metto tutto sotto radice e ho fatto."
   ]
  },
  {
   "cell_type": "markdown",
   "id": "72042e34",
   "metadata": {},
   "source": [
    "#Esercizio 3"
   ]
  },
  {
   "cell_type": "code",
   "execution_count": 9,
   "id": "e32aba76",
   "metadata": {},
   "outputs": [
    {
     "data": {
      "text/html": [
       "<div>\n",
       "<style scoped>\n",
       "    .dataframe tbody tr th:only-of-type {\n",
       "        vertical-align: middle;\n",
       "    }\n",
       "\n",
       "    .dataframe tbody tr th {\n",
       "        vertical-align: top;\n",
       "    }\n",
       "\n",
       "    .dataframe thead th {\n",
       "        text-align: right;\n",
       "    }\n",
       "</style>\n",
       "<table border=\"1\" class=\"dataframe\">\n",
       "  <thead>\n",
       "    <tr style=\"text-align: right;\">\n",
       "      <th></th>\n",
       "      <th>mancanti</th>\n",
       "    </tr>\n",
       "  </thead>\n",
       "  <tbody>\n",
       "    <tr>\n",
       "      <th>id-autoveicolo</th>\n",
       "      <td>0</td>\n",
       "    </tr>\n",
       "    <tr>\n",
       "      <th>categoria</th>\n",
       "      <td>7</td>\n",
       "    </tr>\n",
       "    <tr>\n",
       "      <th>abbonamento</th>\n",
       "      <td>0</td>\n",
       "    </tr>\n",
       "    <tr>\n",
       "      <th>passaggi</th>\n",
       "      <td>0</td>\n",
       "    </tr>\n",
       "    <tr>\n",
       "      <th>altamente-inquinante</th>\n",
       "      <td>0</td>\n",
       "    </tr>\n",
       "  </tbody>\n",
       "</table>\n",
       "</div>"
      ],
      "text/plain": [
       "                      mancanti\n",
       "id-autoveicolo               0\n",
       "categoria                    7\n",
       "abbonamento                  0\n",
       "passaggi                     0\n",
       "altamente-inquinante         0"
      ]
     },
     "execution_count": 9,
     "metadata": {},
     "output_type": "execute_result"
    }
   ],
   "source": [
    "import pandas as pd\n",
    "import matplotlib.pyplot as plt\n",
    "import numpy as np\n",
    "import scipy.stats as st\n",
    "\n",
    "ztl = pd.read_csv('./ztl.csv', delimiter=';',\n",
    "decimal='.')\n",
    "\n",
    "# Ora vuole i valori mancanti per ogni possibile valore dell'attributo categoria\n",
    "\n",
    "valMancanti = {col : len(ztl[col]) - len(ztl[col].dropna()) for col\n",
    "in ztl.columns}\n",
    "\n",
    "dataF = pd.DataFrame(index = valMancanti.keys(), data = valMancanti.values(),\n",
    "columns = ['mancanti'])\n",
    "\n",
    "dataF"
   ]
  },
  {
   "cell_type": "code",
   "execution_count": null,
   "id": "17b2fdd6",
   "metadata": {},
   "outputs": [],
   "source": []
  }
 ],
 "metadata": {
  "kernelspec": {
   "display_name": "Python 3",
   "language": "python",
   "name": "python3"
  },
  "language_info": {
   "codemirror_mode": {
    "name": "ipython",
    "version": 3
   },
   "file_extension": ".py",
   "mimetype": "text/x-python",
   "name": "python",
   "nbconvert_exporter": "python",
   "pygments_lexer": "ipython3",
   "version": "3.12.4"
  }
 },
 "nbformat": 4,
 "nbformat_minor": 5
}
